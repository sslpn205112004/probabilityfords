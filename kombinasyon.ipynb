{
  "nbformat": 4,
  "nbformat_minor": 0,
  "metadata": {
    "colab": {
      "name": "kombinasyon.ipynb",
      "provenance": [],
      "collapsed_sections": [],
      "authorship_tag": "ABX9TyM+d3nha0G41DvGJSp1jOAp",
      "include_colab_link": true
    },
    "kernelspec": {
      "name": "python3",
      "display_name": "Python 3"
    },
    "language_info": {
      "name": "python"
    }
  },
  "cells": [
    {
      "cell_type": "markdown",
      "metadata": {
        "id": "view-in-github",
        "colab_type": "text"
      },
      "source": [
        "<a href=\"https://colab.research.google.com/github/sslpn205112004/probabilityfords/blob/main/kombinasyon.ipynb\" target=\"_parent\"><img src=\"https://colab.research.google.com/assets/colab-badge.svg\" alt=\"Open In Colab\"/></a>"
      ]
    },
    {
      "cell_type": "markdown",
      "metadata": {
        "id": "HKZpstNS9l__"
      },
      "source": [
        "SORU:\n",
        "\n",
        "Bir üretici patates cipsi yapmak için pişirme sıcaklığının, pişirme süresinin ve kızartma yağı türünün etkilerini incelemektedir. Üç farklı sıcaklık, 4 farklı pişirme süresi ve 3 farklı yağ kullanılacaktır.\n",
        "\n",
        "(a) İncelenecek toplam kombinasyon sayısı nedir?\n",
        "\n",
        "(b) Her bir yağ çeşidi için kaç kombinasyon kullanılacaktır?\n",
        "\n",
        "(c) Bu sorunun çözümünde neden permütasyon kullanılmadığını açıklayınız.\n",
        "\n",
        "ÇÖZÜM:\n",
        "\n",
        "Kombinasyon, bir nesne grubu içerisinden sıra gözetmeksizin yapılan seçimlerdir. Nesne grubunun tekabül ettiği kümenin alt kümeleri olarak da tanımlanabilir. Çünkü alt kümelerde sıra önemli değildir. Bir A kümesinin herhangi bir alt kümesine A kümesinin bir kombinasyonu denir.\n",
        "\n",
        "C(n,r) = n!/(r!*(n-r)!)\n",
        "\n",
        "(a) sorusu için alt kümeleri saymamız gerekir.\n",
        "\n",
        "3 farklı sıcaklık değeri (S1, S2, S3)\n",
        "\n",
        "4 farklı pişirme süresi (P1, P2, P3, P4)\n",
        " \n",
        "3 farklı yağ (Y1, Y2, Y3)\n",
        "\n",
        "C_toplam = C(3,1) * (4,1) * C(3,1)\n",
        "\n",
        "C_toplam = 3 * 4 * 3 = 36\n",
        "\n",
        "(b) Her bir yağ çeşidi için denenecek kombinasyon sayısını, toplam kombinasyonu yağ sayısına bölerek elde edebiliriz.\n",
        "\n",
        "C_yağ = 36/3 = 12\n",
        "\n",
        "(c) Neden permütasyon kullanılmadı?\n",
        "\n",
        "Permütasyon sıranın önemli olduğu durumlarda kullanılır. Ancak bu soruda sıranın önemi bulunmamaktadır. Kombinasyon da, bir nesne grubu içerisinden sıra gözetmeksizin yapılan seçimleri ifade eder. Bu nedenle sayma işlemi permütasyonla değil kombinasyonla yapılmıştır.\n"
      ]
    },
    {
      "cell_type": "code",
      "metadata": {
        "colab": {
          "base_uri": "https://localhost:8080/"
        },
        "id": "ympkH1-xPMOx",
        "outputId": "f39fcd42-354a-4802-85f1-edbcd19452da"
      },
      "source": [
        "\n",
        "def fact(i):  # faktöriyel fonksiyonu\n",
        "    \n",
        "    if i==1:       \n",
        "        return 1\n",
        "    else: \n",
        "        return i * fact(i-1)\n",
        "    \n",
        "def cmbntn(ii,iii):   # kombinasyon fonksiyonu \n",
        "    \n",
        "    if(ii==iii):\n",
        "        print(\"1\")\n",
        "    elif(ii>iii):\n",
        "        n = 1\n",
        "        n = fact(ii) # n!\n",
        "        r = 1\n",
        "        r = fact(iii) # r!\n",
        "        n_r = 1\n",
        "        n_r = fact(ii-iii) # (n-r)!\n",
        "        \n",
        "        C = n/(r*n_r)\n",
        "        return C\n",
        "\n",
        "# (a) İncelenecek toplam kombinasyon sayısı nedir?\n",
        "C_toplam = cmbntn(3,1)*cmbntn(4,1)*cmbntn(3,1)\n",
        "print('İncelenecek toplam kombinasyon sayısı = ')\n",
        "print(C_toplam)\n",
        "\n",
        "# Her bir yağ çeşidi için denenecek kombinasyon sayısı nedir?\n",
        "C_yag = C_toplam/3\n",
        "print('Her bir yağ çeşidi için denenecek kombinasyon sayısı = ')\n",
        "print(C_yag)\n"
      ],
      "execution_count": 3,
      "outputs": [
        {
          "output_type": "stream",
          "text": [
            "İncelenecek toplam kombinasyon sayısı = \n",
            "36.0\n",
            "Her bir yağ çeşidi için denenecek kombinasyon sayısı = \n",
            "12.0\n"
          ],
          "name": "stdout"
        }
      ]
    }
  ]
}