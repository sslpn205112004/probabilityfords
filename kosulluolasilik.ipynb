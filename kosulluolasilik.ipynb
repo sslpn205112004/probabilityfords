{
  "nbformat": 4,
  "nbformat_minor": 0,
  "metadata": {
    "colab": {
      "name": "kosulluolasilik.ipynb",
      "provenance": [],
      "collapsed_sections": [],
      "authorship_tag": "ABX9TyP8vvyy9rMWZSozx0TGcSQ9",
      "include_colab_link": true
    },
    "kernelspec": {
      "name": "python3",
      "display_name": "Python 3"
    },
    "language_info": {
      "name": "python"
    }
  },
  "cells": [
    {
      "cell_type": "markdown",
      "metadata": {
        "id": "view-in-github",
        "colab_type": "text"
      },
      "source": [
        "<a href=\"https://colab.research.google.com/github/sslpn205112004/probabilityfords/blob/main/kosulluolasilik.ipynb\" target=\"_parent\"><img src=\"https://colab.research.google.com/assets/colab-badge.svg\" alt=\"Open In Colab\"/></a>"
      ]
    },
    {
      "cell_type": "markdown",
      "metadata": {
        "id": "KrvyVp7Uw0G3"
      },
      "source": [
        "SORU:\n",
        "\n",
        "Düzenli olarak planlanan bir uçuşun zamanında kalkma olasılığı P (K) = 0.83. Zamanında varma olasılığı P (V) = 0.82 ve zamanında yola çıkıp varma olasılığı P (K ∩ V) = 0.78'dir. Bir uçağın\n",
        "(a) zamanında kalktığı göz önüne alındığında, bir uçağın zamanında varma olasılığı ve (b) zamanında vardığı göz önüne alındığında, zamanında yola çıkma olasılığı nedir?\n",
        "\n",
        "ÇÖZÜM:\n",
        "\n",
        "Koşullu olasılık tanımını hatırlayalım.\n",
        "\n",
        "A'nın verildiği, P (B | A) ile gösterilen B'nin koşullu olasılığı şu şekilde tanımlanır:\n",
        "\n",
        "P (B | A) = P (A ∩ B)/P (A), P (A)> 0 olması koşuluyla\n",
        "\n",
        "(a) zamanında kalktığı göz önüne alındığında, bir uçağın zamanında varma olasılığı\n",
        "\n",
        "P(V|K) = P(K∩V)/P(K)\n",
        "\n",
        "P(V|K) = 0.78/0.83\n",
        "\n",
        "P(V|K) = 0.94\n",
        "\n",
        "(b) zamanında vardığı göz önüne alındığında, zamanında yola çıkma olasılığı\n",
        "\n",
        "P(K|V) = P(K∩V)/P(V)\n",
        "\n",
        "P(K|V) = 0.78/0.82\n",
        "\n",
        "P(K|V) = 0.95\n"
      ]
    },
    {
      "cell_type": "code",
      "metadata": {
        "colab": {
          "base_uri": "https://localhost:8080/"
        },
        "id": "8idEMUn-0w-n",
        "outputId": "94a1a521-c46b-430f-c82e-862e5d12986a"
      },
      "source": [
        "\n",
        "P_K = 0.83 # zamanında kalkma olasılığı\n",
        "P_V = 0.82 # zamanında varma olasılığı\n",
        "P_KV = 0.78 # zamanında kalkma ve zamanında varma olasılığı\n",
        "\n",
        "# (a) zamanında kalktığı göz önüne alındığında, bir uçağın zamanında varma olasılığı, P_cpV\n",
        "P_cpV = P_KV/P_K\n",
        "print('Zamanında kalktığı göz önüne alındığında, bir uçağın zamanında varma olasılığı = ')\n",
        "print(P_cpV)\n",
        "# (b) zamanında vardığı göz önüne alındığında, zamanında yola çıkma olasılığı, P_cpK\n",
        "P_cpK = P_KV/P_V\n",
        "print('Zamanında vardığı göz önüne alındığında, zamanında yola çıkma olasılığı = ')\n",
        "print(P_cpK)\n"
      ],
      "execution_count": 3,
      "outputs": [
        {
          "output_type": "stream",
          "text": [
            "Zamanında kalktığı göz önüne alındığında, bir uçağın zamanında varma olasılığı = \n",
            "0.9397590361445783\n",
            "Zamanında vardığı göz önüne alındığında, zamanında yola çıkma olasılığı = \n",
            "0.951219512195122\n"
          ],
          "name": "stdout"
        }
      ]
    }
  ]
}