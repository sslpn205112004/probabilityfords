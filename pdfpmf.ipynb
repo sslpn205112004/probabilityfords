{
  "nbformat": 4,
  "nbformat_minor": 0,
  "metadata": {
    "colab": {
      "name": "pdfpmf.ipynb",
      "provenance": [],
      "collapsed_sections": [],
      "authorship_tag": "ABX9TyMrEOVlpDUprF8HE5PiPKkY",
      "include_colab_link": true
    },
    "kernelspec": {
      "name": "python3",
      "display_name": "Python 3"
    },
    "language_info": {
      "name": "python"
    }
  },
  "cells": [
    {
      "cell_type": "markdown",
      "metadata": {
        "id": "view-in-github",
        "colab_type": "text"
      },
      "source": [
        "<a href=\"https://colab.research.google.com/github/sslpn205112004/probabilityfords/blob/main/pdfpmf.ipynb\" target=\"_parent\"><img src=\"https://colab.research.google.com/assets/colab-badge.svg\" alt=\"Open In Colab\"/></a>"
      ]
    },
    {
      "cell_type": "markdown",
      "metadata": {
        "id": "RNDFeJ8-GWZr"
      },
      "source": [
        "\n",
        "SORU:\n",
        "\n",
        "Bir santral tarafından 5 dakikalık bir aralıkta alınan telefon görüşmelerinin sayısı rastgele bir x değişkeni olsun.\n",
        "\n",
        "f(x) = ((e^(- 2))*(2^x))/x!, x = 0, 1, 2, .... için\n",
        "\n",
        "(a) X =  0, 1, 2, 3, 4, 5 ve 6'daki olasılığı hesaplayın.\n",
        "\n",
        "(b) Bu x değerleri için olasılık kütle fonksiyonunun grafiğini çizin.\n",
        "\n",
        "ÇÖZÜM:\n",
        "\n",
        "(a) x değerleri sırayla f(x) fonksiyonunda yerine yazılır ve çıkan sonuçlar olasılığı verir.\n",
        "\n",
        "x = 0                              \n",
        "\n",
        "f(0) = ((e^(- 2))*(2^0))/0!            \n",
        "\n",
        "f(0) = ((e^(- 2))*1)/1\n",
        "\n",
        "f(0) = e^(- 2) = 0.1353\n",
        "\n",
        "x = 1\n",
        "\n",
        "f(1) = ((e^(- 2))*(2^1))/1!\n",
        "\n",
        "f(1) = ((e^(- 2))*2)/1\n",
        "\n",
        "f(1) = (e^(- 2))*2 = 0.2706\n",
        "\n",
        "x = 2\n",
        "\n",
        "f(2) = ((e^(- 2))*(2^2))/2!\n",
        "\n",
        "f(2) = ((e^(- 2))*4)/2\n",
        "\n",
        "f(2) = (e^(- 2))*2 = 0.2706\n",
        "\n",
        "x = 3\n",
        "\n",
        "f(3) = ((e^(- 2))*(2^3))/3!\n",
        "\n",
        "f(3) = ((e^(- 2))*8)/6\n",
        "\n",
        "f(3) = ((e^(- 2))*4)/3 = 0.1804\n",
        "\n",
        "x = 4\n",
        "\n",
        "f(4) = ((e^(- 2))*(2^4))/4!\n",
        "\n",
        "f(4) = ((e^(- 2))*16)/24\n",
        "\n",
        "f(4) = ((e^(- 2))*2)/3 = 0.0902\n",
        "\n",
        "x = 5\n",
        "\n",
        "f(5) = ((e^(- 2))*(2^5))/5!\n",
        "\n",
        "f(5) = ((e^(- 2))*32)/120\n",
        "\n",
        "f(5) = ((e^(- 2))*4)/15 = 0.0360\n",
        "\n",
        "x = 6\n",
        "\n",
        "f(6) = ((e^(- 2))*(2^6))/6!\n",
        "\n",
        "f(6) = ((e^(- 2))*64)/720\n",
        "\n",
        "f(6) = ((e^(- 2))*4)/45 = 0.0120\n",
        "\n",
        "(b) Bu x değerleri için olasılık kütle fonksiyonunun grafiğini çizin.\n",
        "\n",
        "![image.png](data:image/png;base64,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)\n"
      ]
    },
    {
      "cell_type": "code",
      "metadata": {
        "id": "5hiSYSdcR3hB",
        "colab": {
          "base_uri": "https://localhost:8080/",
          "height": 388
        },
        "outputId": "5b03249e-d597-4460-d8e1-c8aa1207eb18"
      },
      "source": [
        "import math\n",
        "import matplotlib.pyplot as plt\n",
        "import numpy as np\n",
        "\n",
        "def fact(i):  # faktöriyel fonksiyonu\n",
        "    \n",
        "    if i==0:\n",
        "        return 1\n",
        "    elif i==1: \n",
        "        return 1\n",
        "    else:\n",
        "      return i * fact(i-1)\n",
        "\n",
        "x = [0, 1, 2, 3, 4, 5, 6]\n",
        "# f = np.array([0 for s in range(7)])\n",
        "\n",
        "for x in range(7):\n",
        " f = (math.exp(-2)*pow(2,x))/fact(x)\n",
        " print('f(', x, ') = ', f)\n",
        " plt.bar(x,f)\n",
        "\n",
        "plt.show()\n",
        " \n"
      ],
      "execution_count": 29,
      "outputs": [
        {
          "output_type": "stream",
          "text": [
            "f( 0 ) =  0.1353352832366127\n",
            "f( 1 ) =  0.2706705664732254\n",
            "f( 2 ) =  0.2706705664732254\n",
            "f( 3 ) =  0.1804470443154836\n",
            "f( 4 ) =  0.0902235221577418\n",
            "f( 5 ) =  0.03608940886309672\n",
            "f( 6 ) =  0.012029802954365574\n"
          ],
          "name": "stdout"
        },
        {
          "output_type": "display_data",
          "data": {
            "image/png": "[encoded data removed]",
            "text/plain": [
              "<Figure size 432x288 with 1 Axes>"
            ]
          },
          "metadata": {
            "tags": [],
            "needs_background": "light"
          }
        }
      ]
    }
  ]
}