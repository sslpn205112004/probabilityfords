{
  "nbformat": 4,
  "nbformat_minor": 0,
  "metadata": {
    "colab": {
      "name": "permutasyon.ipynb",
      "provenance": [],
      "collapsed_sections": [],
      "authorship_tag": "ABX9TyNxJYSKfdA+6RnN5MnHWWyk",
      "include_colab_link": true
    },
    "kernelspec": {
      "name": "python3",
      "display_name": "Python 3"
    },
    "language_info": {
      "name": "python"
    }
  },
  "cells": [
    {
      "cell_type": "markdown",
      "metadata": {
        "id": "view-in-github",
        "colab_type": "text"
      },
      "source": [
        "<a href=\"https://colab.research.google.com/github/sslpn205112004/probabilityfords/blob/main/permutasyon.ipynb\" target=\"_parent\"><img src=\"https://colab.research.google.com/assets/colab-badge.svg\" alt=\"Open In Colab\"/></a>"
      ]
    },
    {
      "cell_type": "markdown",
      "metadata": {
        "id": "1TcX1T2qbLvs"
      },
      "source": [
        "\n",
        "SORU:\n",
        "\n",
        "(a) Her bir rakam yalnızca bir defa kullanılması şartıyla, 0, 1, 2, 3, 4, 5 ve 6 rakamlarından kaç tane üç haneli sayı oluşturulabilir?\n",
        "\n",
        "(b) Bunlardan kaç tanesi tek sayıdır?\n",
        "\n",
        "(c) Kaç tanesi 330'dan büyüktür?\n",
        "\n",
        "ÇÖZÜM:\n",
        "\n",
        "Sayılarımız 7 tane: 0, 1, 2, 3, 4, 5, 6\n",
        "\n",
        "(a) sayılar farklı rakamlardan oluşmalı\n",
        "\n",
        "Sıfırdan farklı 6 rakamdan herhangi biri yüzler basamağı için ve kalan 6 rakamdan herhangi biri onlar basamağı için seçilebilir ve birler basamağı için geriye kalan 5 rakam yazılabilir. Yani, (6) (6) (5) = 180 tane üç basamaklı sayı vardır.\n",
        "\n",
        "(b) sayılar farklı rakamlardan oluşmalı ve sayı = 2n+1\n",
        "\n",
        "Birler basamağı tek rakamlardan herhangi biri kullanılarak doldurulabilir. Yüzler basamağı için kalan sıfırdan farklı 5 rakamdan herhangi biri seçilebilir ve onlar basamağı için 5 rakam arasından bir seçim yapılır. Buna göre, (3) (5) (5) = 75 tane üç basamaklı tek sayı vardır.\n",
        "\n",
        "(c) sayılar farklı rakamlardan oluşmalı ve sayı > 330\n",
        "\n",
        "Yüzler basamağında 4, 5 veya 6 kullanılırsa, onlar ve birler basamağı için sırasıyla 6 ve 5 seçenek kalır. Buradan 4, 5 veya 6 ile başlayan (3) (6) (5) = 90 tane üç basamaklı sayı elde edilir. Yüzler basamağında bir 3 kullanılırsa, onlar basamağında 4, 5 veya 6 kullanılmalıdır. Birler basamağı için 5 farklı rakam kullanılabilir. Bu durumda, 3 ile başlayan (1) (3) (5) = 15 tane üç basamaklı sayı vardır. Dolayısıyla, 330'dan büyük olan üç basamaklı sayıların toplam sayısı 90 + 15 = 105'tir.\n",
        "\n"
      ]
    },
    {
      "cell_type": "code",
      "metadata": {
        "colab": {
          "base_uri": "https://localhost:8080/"
        },
        "id": "G5EnQ8kFl0Wm",
        "outputId": "fb0d6630-0d33-4127-a0d3-bf414a1ed96d"
      },
      "source": [
        "# Rakamları farklı sayıların adedi\n",
        "P_a = 6*6*5\n",
        "print('Rakamları farklı sayıların adedi = ')\n",
        "print(P_a)\n",
        "\n",
        "# Rakamları farklı ve kendisi tek olan sayıların adedi\n",
        "P_b = 3*5*5\n",
        "print('Rakamları farklı ve kendisi tek olan sayıların adedi = ')\n",
        "print(P_b)\n",
        "\n",
        "# Rakamları farklı ve kendisi 330dan büyük olan sayıların adedi\n",
        "P_c = 3*6*5 + 1*3*5\n",
        "print('Rakamları farklı ve kendisi 330dan büyük olan sayıların adedi = ')\n",
        "print(P_c)\n",
        "\n"
      ],
      "execution_count": 1,
      "outputs": [
        {
          "output_type": "stream",
          "text": [
            "Rakamları farklı sayıların adedi = \n",
            "180\n",
            "Rakamları farklı ve kendisi tek olan sayıların adedi = \n",
            "75\n",
            "Rakamları farklı ve kendisi 330dan büyük olan sayıların adedi = \n",
            "105\n"
          ],
          "name": "stdout"
        }
      ]
    }
  ]
}